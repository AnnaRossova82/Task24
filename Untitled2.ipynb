{
 "cells": [
  {
   "cell_type": "code",
   "execution_count": 23,
   "id": "e2f402f5",
   "metadata": {},
   "outputs": [
    {
     "name": "stdout",
     "output_type": "stream",
     "text": [
      "Possiblity that get doc of first economist:  0.4 Possiblity that get doc of second economist:  0.6\n",
      "Possibility_first_economist will be:   P(A1|B = (P(A1)*P(B|A1)/(P(A1)*P(B|A1)+(P(A2)*P(B|A2))\n",
      "Still have small possiblity that first economist fill this doc:  0.25000000000000006\n"
     ]
    }
   ],
   "source": [
    "#Два економісти, ймовірність відхилення понад прогнозовану похибку - 0.1; для другого 0.2; перший поклав 40 документів, \n",
    "#другий 60. Витягли документ з суттєвою помилкую. Рахуємо вірогідність що цей док зроблений економістом №1:\n",
    "P1 = 40/100\n",
    "P2 = 60/100\n",
    "print(\"Possiblity that get doc of first economist: \", P1, \"Possiblity that get doc of second economist: \", P2)\n",
    "# Використаємо теорему Байєса для двох випадків: \n",
    "print(\"Possibility_first_economist will be:   P(A1|B = (P(A1)*P(B|A1)/(P(A1)*P(B|A1)+(P(A2)*P(B|A2))\")\n",
    "Ps1 = 0.4*0.1/((0.4*0.1)+(0.6*0.2))\n",
    "print(\"Still have small possiblity that first economist fill this doc: \", Ps1)\n"
   ]
  },
  {
   "cell_type": "code",
   "execution_count": 32,
   "id": "ab595e8a",
   "metadata": {},
   "outputs": [
    {
     "name": "stdout",
     "output_type": "stream",
     "text": [
      "Math_expect1 =  1350.0 Math_expect2 =  1350.0\n",
      "Dispers_x is:  152500.0 Dispers_y is:  90000.0\n",
      "Risk for first X way of production -  390.51248379533274 Risk for second Y way of production -  300.0\n"
     ]
    }
   ],
   "source": [
    "#Для двох виробництв маємо дані, шукаємо ступінь ризику. Спочатку вирахуємо математичне сподівання і дисперсію, потім стаддартне\n",
    "#середньоквадратичне відхилення, що вкаже на більшу ризикованість одного з підприємств:\n",
    "# x 1000 1500 2000    # y 1000 1500 1750\n",
    "# p 0,5   0,3  0,2    # p  0,4  0,4  0,2\n",
    "\n",
    "Mx = 1000*0.5+1500*0.3+2000*0.2\n",
    "My = 1000*0.4+1500*0.4+1750*0.2\n",
    "print(\"Math_expect1 = \", Mx1, \"Math_expect2 = \", Mx2)\n",
    "Dx = ((1000**2)*0.5+(1500**2)*0.3+(2000**2)*0.2) - (1350**2)\n",
    "Dy = ((1000**2)*0.4+(1500**2)*0.4+(1750**2)*0.2) - (1350**2)\n",
    "print(\"Dispers_x is: \", Dx, \"Dispers_y is: \", Dy)\n",
    "Risk_x=Dx**0.5\n",
    "Risk_y=Dy**0.5\n",
    "print(\"Risk for first X way of production - \",  Risk_x, \"Risk for second Y way of production - \", Risk_y)\n",
    "print(\"Looks like X variant is with higher risk, but sometmet more risk match to more profit, so who knows...\")"
   ]
  },
  {
   "cell_type": "code",
   "execution_count": null,
   "id": "e65b9f50",
   "metadata": {},
   "outputs": [],
   "source": []
  }
 ],
 "metadata": {
  "kernelspec": {
   "display_name": "Python 3 (ipykernel)",
   "language": "python",
   "name": "python3"
  },
  "language_info": {
   "codemirror_mode": {
    "name": "ipython",
    "version": 3
   },
   "file_extension": ".py",
   "mimetype": "text/x-python",
   "name": "python",
   "nbconvert_exporter": "python",
   "pygments_lexer": "ipython3",
   "version": "3.9.13"
  }
 },
 "nbformat": 4,
 "nbformat_minor": 5
}
